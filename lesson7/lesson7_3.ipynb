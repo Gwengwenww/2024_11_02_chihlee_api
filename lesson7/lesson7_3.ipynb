{
 "cells": [
  {
   "cell_type": "code",
   "execution_count": null,
   "metadata": {
    "vscode": {
     "languageId": "plaintext"
    }
   },
   "outputs": [],
   "source": [
    "import streamlit as st\n",
    "\n",
    "st.title(\"次數的範例\")\n",
    "count = 0\n",
    "\n",
    "increament = st.button('每次加1')\n",
    "if increament:\n",
    "    count += 1\n",
    "\n",
    "st.write('次數=',count)"
   ]
  }
 ],
 "metadata": {
  "language_info": {
   "name": "python"
  }
 },
 "nbformat": 4,
 "nbformat_minor": 2
}
