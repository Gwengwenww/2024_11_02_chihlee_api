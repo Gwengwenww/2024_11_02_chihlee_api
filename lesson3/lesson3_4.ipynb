{
 "cells": [
  {
   "cell_type": "code",
   "execution_count": 2,
   "metadata": {},
   "outputs": [],
   "source": [
    "#typehine\n",
    "#變數,參數,return\n",
    "i:int = 10\n"
   ]
  },
  {
   "cell_type": "code",
   "execution_count": 2,
   "metadata": {},
   "outputs": [],
   "source": [
    "#python是First Class程式語言\n",
    "#Function也有型別\n",
    "#變數可以儲存Function\n",
    "#Function可以當作參數\n",
    "#Function可以當作傳出值"
   ]
  },
  {
   "cell_type": "code",
   "execution_count": 8,
   "metadata": {},
   "outputs": [
    {
     "data": {
      "text/plain": [
       "19"
      ]
     },
     "execution_count": 8,
     "metadata": {},
     "output_type": "execute_result"
    }
   ],
   "source": [
    "from typing import Callable\n",
    "\n",
    "MyFunction = Callable [[int,int],int] \n",
    "\n",
    "def add(a:int,b:int) -> int:\n",
    "    return a + b\n",
    "\n",
    "myfun:MyFunction= add\n",
    "\n",
    "myfun(9,10)"
   ]
  },
  {
   "cell_type": "code",
   "execution_count": 1,
   "metadata": {},
   "outputs": [
    {
     "ename": "SyntaxError",
     "evalue": "expected '(' (2564674355.py, line 1)",
     "output_type": "error",
     "traceback": [
      "\u001b[1;36m  Cell \u001b[1;32mIn[1], line 1\u001b[1;36m\u001b[0m\n\u001b[1;33m    def decor\u001b[0m\n\u001b[1;37m             ^\u001b[0m\n\u001b[1;31mSyntaxError\u001b[0m\u001b[1;31m:\u001b[0m expected '('\n"
     ]
    }
   ],
   "source": [
    "def decor\n",
    "def wrapper_function():\n",
    "    print(\"function開始\")\n",
    "    print(\"可以由使用者自己定義\")\n",
    "    print(\"function結束\")\n",
    "\n",
    "wrapper_function()"
   ]
  },
  {
   "cell_type": "code",
   "execution_count": 9,
   "metadata": {},
   "outputs": [
    {
     "name": "stdout",
     "output_type": "stream",
     "text": [
      "function開始\n",
      "您好:robert\n",
      "您好:jenny\n",
      "function結束\n"
     ]
    }
   ],
   "source": [
    "#decorator的功能\n",
    "\n",
    "def decorator_function(original_function):\n",
    "    def wrapper_function():\n",
    "        print(\"function開始\")\n",
    "        original_function()\n",
    "        print(\"function結束\")\n",
    "    return wrapper_function\n",
    "\n",
    "def say_hello():\n",
    "    print(\"您好:robert\")\n",
    "    print(\"您好:jenny\")\n",
    "\n",
    "newFunction = decorator_function(say_hello)\n",
    "newFunction()"
   ]
  },
  {
   "cell_type": "code",
   "execution_count": 10,
   "metadata": {},
   "outputs": [
    {
     "name": "stdout",
     "output_type": "stream",
     "text": [
      "function開始\n",
      "您好:robert\n",
      "您好:jenny\n",
      "function結束\n"
     ]
    }
   ],
   "source": [
    "@decorator_function\n",
    "def abc():\n",
    "    print(\"您好:robert\")\n",
    "    print(\"您好:jenny\")\n",
    "\n",
    "abc()"
   ]
  },
  {
   "cell_type": "code",
   "execution_count": 3,
   "metadata": {},
   "outputs": [
    {
     "name": "stdout",
     "output_type": "stream",
     "text": [
      "您的身高是: 199 公分\n",
      "您的體重是: 100 公斤\n",
      "您的BMI是: 25.25\n",
      "您是小胖豬\n"
     ]
    }
   ],
   "source": [
    "def get_status(BMI: float) -> str:\n",
    "    if 18 <= BMI < 24:\n",
    "        status = \"您的BMI值正常\"\n",
    "    elif 24 <= BMI < 27:\n",
    "        status = \"您是小胖豬\"\n",
    "    elif 27 <= BMI < 30:\n",
    "        status = \"您是大胖豬\"\n",
    "    elif 30 <= BMI < 35:\n",
    "        status = \"您是大肥豬\"\n",
    "    else:\n",
    "        status = \"別懷疑, 您是超重肥豬\"\n",
    "    return status\n",
    "\n",
    "while True:\n",
    "    try:\n",
    "        weight = int(input(\"請輸入體重 (公斤): \"))\n",
    "        height = int(input(\"請輸入身高 (公分): \"))\n",
    "        \n",
    "        if height <= 0 or weight <= 0:\n",
    "            print(\"身高和體重必須是正數\")\n",
    "            continue  # This will prompt the user to input again if invalid\n",
    "        \n",
    "    except ValueError:\n",
    "        print(\"輸入錯誤,請重新輸入\")\n",
    "        continue  # This will prompt again in case of invalid input\n",
    "    \n",
    "    # Convert height from cm to meters for BMI calculation\n",
    "    height_in_meters = height / 100\n",
    "    \n",
    "    # Calculate BMI\n",
    "    BMI = weight / (height_in_meters ** 2)\n",
    "    \n",
    "    print(f'您的身高是: {height} 公分')\n",
    "    print(f'您的體重是: {weight} 公斤')\n",
    "    print(f'您的BMI是: {BMI:.2f}')\n",
    "    \n",
    "    # Get and print the BMI status\n",
    "    status = get_status(BMI)\n",
    "    print(status)\n",
    "    \n",
    "    break"
   ]
  }
 ],
 "metadata": {
  "kernelspec": {
   "display_name": "base",
   "language": "python",
   "name": "python3"
  },
  "language_info": {
   "codemirror_mode": {
    "name": "ipython",
    "version": 3
   },
   "file_extension": ".py",
   "mimetype": "text/x-python",
   "name": "python",
   "nbconvert_exporter": "python",
   "pygments_lexer": "ipython3",
   "version": "3.12.2"
  }
 },
 "nbformat": 4,
 "nbformat_minor": 2
}
